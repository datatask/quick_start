{
 "cells": [
  {
   "cell_type": "code",
   "execution_count": 37,
   "metadata": {},
   "outputs": [],
   "source": [
    "from google.cloud import bigquery\n",
    "from google.cloud import storage\n",
    "import pandas as pd\n",
    "import os"
   ]
  },
  {
   "cell_type": "code",
   "execution_count": 38,
   "metadata": {},
   "outputs": [],
   "source": [
    "os.environ[\"GOOGLE_APPLICATION_CREDENTIALS\"]=\"code/cred.json\"\n",
    "client = bigquery.Client(project=\"trkit00\")"
   ]
  },
  {
   "cell_type": "code",
   "execution_count": 51,
   "metadata": {},
   "outputs": [],
   "source": [
    "#parameter\n",
    "minDate = \"2020-02-01\"\n",
    "if 'mindate' in os.environ.keys():\n",
    "  minDate = os.environ[\"mindate\"]\n",
    "\n",
    "dataset = \"BGN5EL24\"\n"
   ]
  },
  {
   "cell_type": "code",
   "execution_count": 40,
   "metadata": {
    "lines_to_next_cell": 2
   },
   "outputs": [],
   "source": [
    "sql = \"\"\"\n",
    "SELECT date, COUNT(*) hits\n",
    "FROM (\n",
    "SELECT DATE(EventTime) date \n",
    "FROM `%s`\n",
    "WHERE DATE(EventTime) > \"%s\"\n",
    ")\n",
    "GROUP BY date \n",
    "ORDER BY date ASC\n",
    "\"\"\"%(\"trkit00.\"+dataset+\".events\", minDate)"
   ]
  },
  {
   "cell_type": "code",
   "execution_count": 41,
   "metadata": {},
   "outputs": [],
   "source": [
    "df=client.query(sql).to_dataframe()\n",
    "Output = \"\"\n",
    "for i,r in df.iterrows():\n",
    "    Output += \"%s\\t%s\\n\"%(r[\"date\"], r[\"hits\"])"
   ]
  },
  {
   "cell_type": "code",
   "execution_count": 47,
   "metadata": {},
   "outputs": [],
   "source": [
    "storageClient = storage.Client()\n",
    "bucket = storageClient.get_bucket('datataskiodemo')\n",
    "blob = bucket.blob('extractdemoresult.txt')\n",
    "blob.upload_from_string(Output)"
   ]
  },
  {
   "cell_type": "code",
   "execution_count": null,
   "metadata": {},
   "outputs": [],
   "source": []
  }
 ],
 "metadata": {
  "jupytext": {
   "formats": "ipynb,py:light"
  },
  "kernelspec": {
   "display_name": "Python [conda env:python37base]",
   "language": "python",
   "name": "conda-env-python37base-py"
  },
  "language_info": {
   "codemirror_mode": {
    "name": "ipython",
    "version": 3
   },
   "file_extension": ".py",
   "mimetype": "text/x-python",
   "name": "python",
   "nbconvert_exporter": "python",
   "pygments_lexer": "ipython3",
   "version": "3.7.5"
  }
 },
 "nbformat": 4,
 "nbformat_minor": 4
}
